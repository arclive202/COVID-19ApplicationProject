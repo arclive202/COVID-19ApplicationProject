{
  "nbformat": 4,
  "nbformat_minor": 0,
  "metadata": {
    "colab": {
      "name": "Untitled",
      "provenance": [],
      "authorship_tag": "ABX9TyPsIks39BB8zY9XcIZ5YH7G",
      "include_colab_link": true
    },
    "kernelspec": {
      "name": "python3",
      "display_name": "Python 3"
    }
  },
  "cells": [
    {
      "cell_type": "markdown",
      "metadata": {
        "id": "view-in-github",
        "colab_type": "text"
      },
      "source": [
        "<a href=\"https://colab.research.google.com/github/arclive202/COVID19proj/blob/master/COVIDsitesURLAggregator.ipynb\" target=\"_parent\"><img src=\"https://colab.research.google.com/assets/colab-badge.svg\" alt=\"Open In Colab\"/></a>"
      ]
    },
    {
      "cell_type": "markdown",
      "metadata": {
        "id": "ySbfqLkcGwht",
        "colab_type": "text"
      },
      "source": [
        "#Exploratory Data Analysis on Covid Datasets\n",
        "\n",
        "##Calling a REST API to track the live COVID DATA. \n",
        "##Browse to the following URL to set the filter on the dataset you want to collect.\n",
        "https://public.opendatasoft.com/explore/dataset/covid-19-data-catalog/api/?rows=200&refine.geographical_scope=India&refine.update_frequency=Daily&refine.data_provenance=Crowdsourcing&refine.granularity=Country&refine.format_of_the_data_source=CSV%2FTSV\n",
        "\n",
        "###Note 1 - Try to figure out and test the kind of data that is being received from the API.\n",
        "\n",
        "\n"
      ]
    },
    {
      "cell_type": "code",
      "metadata": {
        "id": "cdRlH4oGGmCH",
        "colab_type": "code",
        "colab": {
          "base_uri": "https://localhost:8080/",
          "height": 84
        },
        "outputId": "b448604f-045f-4870-aa0c-959a84daf6ed"
      },
      "source": [
        "#https://public.opendatasoft.com/api/records/1.0/search/?dataset=covid-19-data-catalog&q=&facet=geographical_scope&facet=update_frequency&facet=data_provenance&facet=granularity&facet=format_of_the_data_source\n",
        "\n",
        "import requests\n",
        "\n",
        "resp = requests.get('https://public.opendatasoft.com/api/records/1.0/search/?dataset=covid-19-data-catalog&q=&rows=200&facet=geographical_scope&facet=update_frequency&facet=data_provenance&facet=granularity&facet=format_of_the_data_source')\n",
        "if resp.status_code != 200:\n",
        "    # Status code 200 generally means that you have received the Data. So if the status code is not 200 it means that there is some issue\n",
        "    raise ApiError('GET /tasks/ {}'.format(resp.status_code))\n",
        "for l in resp.json():\n",
        "    print(l)"
      ],
      "execution_count": 128,
      "outputs": [
        {
          "output_type": "stream",
          "text": [
            "nhits\n",
            "parameters\n",
            "records\n",
            "facet_groups\n"
          ],
          "name": "stdout"
        }
      ]
    },
    {
      "cell_type": "code",
      "metadata": {
        "id": "y_NZ_YC_Qmxs",
        "colab_type": "code",
        "colab": {
          "base_uri": "https://localhost:8080/",
          "height": 104
        },
        "outputId": "d5e55e7e-504e-4588-959c-bb71a34c4875"
      },
      "source": [
        "nhits = resp.json()['nhits']\n",
        "parameters = resp.json()['parameters']\n",
        "records = resp.json()['records']\n",
        "facet_groups = resp.json()['facet_groups']\n",
        "print (nhits)\n",
        "print (parameters)\n",
        "print (records)\n",
        "print (facet_groups)"
      ],
      "execution_count": 129,
      "outputs": [
        {
          "output_type": "stream",
          "text": [
            "41\n",
            "{'dataset': 'covid-19-data-catalog', 'timezone': 'UTC', 'rows': 200, 'format': 'json', 'facet': ['geographical_scope', 'update_frequency', 'data_provenance', 'granularity', 'format_of_the_data_source']}\n",
            "[{'datasetid': 'covid-19-data-catalog', 'recordid': '3368f3e7f4065b0c90e903aa720f754d1e65b3a2', 'fields': {'data_provenance': 'Crowdsourcing', 'geographical_scope': 'Canda', 'update_frequency': 'Daily', 'name_of_the_data_source': 'Covid19 Canada', 'granularity': 'Region/province', 'format_of_the_data_source': 'CSV/TSV, XLS/XLSX', 'url_of_the_data_source': 'https://github.com/ishaberry/Covid19Canada'}, 'record_timestamp': '2020-04-01T08:28:30.248000+00:00'}, {'datasetid': 'covid-19-data-catalog', 'recordid': 'e0782af1bcfed96b9902e5c4bed2842142fa9db5', 'fields': {'data_provenance': 'Administration', 'geographical_scope': 'Australia', 'update_frequency': 'Daily', 'name_of_the_data_source': 'Australia Government', 'granularity': 'State', 'format_of_the_data_source': 'CSV/TSV', 'url_of_the_data_source': 'https://data.gov.au/search?q=covid-19'}, 'record_timestamp': '2020-04-14T13:29:25.918000+00:00'}, {'datasetid': 'covid-19-data-catalog', 'recordid': '3c2cd5ee40a8d228fa047ea0f21117a12869a65b', 'fields': {'data_provenance': 'Administration', 'geographical_scope': 'Switzerland, Liechtenstein', 'update_frequency': 'Daily', 'name_of_the_data_source': 'SARS-CoV-2 Cases communicated by Swiss Cantons and Principality of Liechtenstein (FL)', 'granularity': 'Canton', 'format_of_the_data_source': 'CSV/TSV', 'url_of_the_data_source': 'https://github.com/openZH/covid_19'}, 'record_timestamp': '2020-03-30T08:57:59.003000+00:00'}, {'datasetid': 'covid-19-data-catalog', 'recordid': 'b924371031011df5c172c628343a7fdd9faf2f5f', 'fields': {'data_provenance': 'Crowdsourcing', 'geographical_scope': 'World', 'update_frequency': 'Daily', 'name_of_the_data_source': '2019 Novel Coronavirus COVID-19 (2019-nCoV) Data Repository by Johns Hopkins CSSE', 'granularity': 'Country', 'format_of_the_data_source': 'CSV/TSV', 'url_of_the_data_source': 'https://github.com/CSSEGISandData/COVID-19'}, 'record_timestamp': '2020-04-01T08:07:31.363000+00:00'}, {'datasetid': 'covid-19-data-catalog', 'recordid': '45e07f4ac2ce084d39dbc94518f2c58119406024', 'fields': {'data_provenance': 'Administration', 'geographical_scope': 'France', 'update_frequency': 'Daily', 'name_of_the_data_source': 'Données hospitalières france COVID19', 'granularity': 'Department', 'format_of_the_data_source': 'CSV/TSV', 'url_of_the_data_source': 'https://www.data.gouv.fr/fr/datasets/donnees-hospitalieres-relatives-a-lepidemie-de-covid-19/'}, 'record_timestamp': '2020-04-01T08:26:54.960000+00:00'}, {'datasetid': 'covid-19-data-catalog', 'recordid': 'd8842fc5f0ec5724f18a3c6805fd9d36b74b4aa3', 'fields': {'data_provenance': 'Administration', 'geographical_scope': 'Canada', 'update_frequency': 'Daily', 'name_of_the_data_source': 'Canada Governement', 'granularity': 'Region/province', 'format_of_the_data_source': 'CSV/TSV', 'url_of_the_data_source': 'https://www.canada.ca/en/public-health/services/diseases/2019-novel-coronavirus-infection.html'}, 'record_timestamp': '2020-04-01T08:29:47.666000+00:00'}, {'datasetid': 'covid-19-data-catalog', 'recordid': 'e3b13e60e1af5441a90ab973ba52c73615d54783', 'fields': {'data_provenance': 'Research', 'geographical_scope': 'World', 'update_frequency': 'Daily', 'name_of_the_data_source': 'OXFORD COVID-19 GOVERNMENT RESPONSE TRACKER', 'granularity': 'Country', 'format_of_the_data_source': 'XLS/XLSX', 'url_of_the_data_source': 'https://www.bsg.ox.ac.uk/research/research-projects/oxford-covid-19-government-response-tracker'}, 'record_timestamp': '2020-04-01T13:42:33.558000+00:00'}, {'datasetid': 'covid-19-data-catalog', 'recordid': '82d7152dada08d30bbae93e1e364f6e7f502c032', 'fields': {'data_provenance': 'Research', 'geographical_scope': 'World', 'update_frequency': 'Weekly', 'name_of_the_data_source': 'COVID-19 Open Research Dataset (CORD-19)', 'granularity': 'Research papers', 'format_of_the_data_source': 'JSON', 'url_of_the_data_source': 'https://pages.semanticscholar.org/coronavirus-research'}, 'record_timestamp': '2020-04-01T13:16:07.452000+00:00'}, {'datasetid': 'covid-19-data-catalog', 'recordid': 'e62042a308a4fb19f398a19653744056655add07', 'fields': {'data_provenance': 'Administration', 'geographical_scope': 'USA', 'update_frequency': 'Weekly', 'name_of_the_data_source': 'COVID-19 USA CDC', 'granularity': 'State', 'format_of_the_data_source': 'CSV/TSV', 'url_of_the_data_source': 'https://gis.cdc.gov/grasp/COVIDNet/COVID19_3.html'}, 'record_timestamp': '2020-04-07T11:20:08.101000+00:00'}, {'datasetid': 'covid-19-data-catalog', 'recordid': '01dc59be72df9f40084d19419cf81f348552013f', 'fields': {'data_provenance': 'Crowdsourcing', 'geographical_scope': 'Canada', 'update_frequency': 'Daily', 'name_of_the_data_source': 'Canada', 'granularity': 'Region/province', 'format_of_the_data_source': 'HTML', 'url_of_the_data_source': 'https://virihealth.com'}, 'record_timestamp': '2020-04-01T08:37:46.087000+00:00'}, {'datasetid': 'covid-19-data-catalog', 'recordid': 'cf3da595007ff2b1e83f1211a9fe1a6a54767e1e', 'fields': {'data_provenance': 'Administration', 'geographical_scope': 'World', 'update_frequency': 'Daily', 'name_of_the_data_source': 'Geographic distribution of COVID-19 cases worldwide', 'granularity': 'Country', 'format_of_the_data_source': 'CSV/TSV, XLS/XLSX, JSON, XML', 'url_of_the_data_source': 'https://www.ecdc.europa.eu/en/publications-data/download-todays-data-geographic-distribution-covid-19-cases-worldwide'}, 'record_timestamp': '2020-03-30T08:13:51.416000+00:00'}, {'datasetid': 'covid-19-data-catalog', 'recordid': '7984a7e7c4fda4f0b04890263cd489e6ae7d1dbe', 'fields': {'data_provenance': 'News/journalists', 'geographical_scope': 'Australia', 'update_frequency': 'Daily', 'name_of_the_data_source': 'Guardian Australia', 'granularity': 'State', 'format_of_the_data_source': 'XLS/XLSX, JSON', 'url_of_the_data_source': 'https://docs.google.com/spreadsheets/d/1q5gdePANXci8enuiS4oHUJxcxC13d6bjMRSicakychE/edit#gid=1437767505'}, 'record_timestamp': '2020-04-14T13:28:44.439000+00:00'}, {'datasetid': 'covid-19-data-catalog', 'recordid': 'da57a73fb20e91fcfc25ebdecba6fa39f2902816', 'fields': {'data_provenance': 'Administration', 'geographical_scope': 'World', 'update_frequency': 'Daily', 'name_of_the_data_source': 'ECDC Geographic Distribution Covid-19 cases Worldwide', 'granularity': 'Country', 'format_of_the_data_source': 'CSV/TSV, XLS/XLSX, XML, JSON', 'url_of_the_data_source': 'https://www.ecdc.europa.eu/en/publications-data/download-todays-data-geographic-distribution-covid-19-cases-worldwide'}, 'record_timestamp': '2020-04-01T13:23:52.364000+00:00'}, {'datasetid': 'covid-19-data-catalog', 'recordid': '4abb40eb5f1e995575711aa6a9e3e6c912daf1c2', 'fields': {'data_provenance': 'Crowdsourcing', 'geographical_scope': 'USA', 'update_frequency': 'Daily', 'name_of_the_data_source': 'Github - Covid trakcing API', 'granularity': 'IDK', 'format_of_the_data_source': 'CSV/TSV', 'url_of_the_data_source': 'https://github.com/COVID19Tracking/covid-tracking-api/blob/master/README.md'}, 'record_timestamp': '2020-04-01T12:32:17.820000+00:00'}, {'datasetid': 'covid-19-data-catalog', 'recordid': '22f648b33e747ec65c88d58f9f683029efed975c', 'fields': {'data_provenance': 'Crowdsourcing', 'geographical_scope': 'Switzerland', 'update_frequency': 'Daily', 'name_of_the_data_source': 'COVID-19 cases Switzerland', 'granularity': 'Canton', 'format_of_the_data_source': 'CSV/TSV, XLS/XLSX', 'url_of_the_data_source': 'https://github.com/daenuprobst/covid19-cases-switzerland'}, 'record_timestamp': '2020-03-30T08:13:51.916000+00:00'}, {'datasetid': 'covid-19-data-catalog', 'recordid': '4eea294e1ab4a104770064bff6ebd37a6e37b3cd', 'fields': {'data_provenance': 'Administration', 'geographical_scope': 'Italy', 'update_frequency': 'Daily', 'name_of_the_data_source': 'COVID-19 Italia - Monitoraggio situazione', 'granularity': 'Region/province', 'format_of_the_data_source': 'CSV/TSV, JSON', 'url_of_the_data_source': 'https://github.com/pcm-dpc/COVID-19'}, 'record_timestamp': '2020-03-30T08:13:52.599000+00:00'}, {'datasetid': 'covid-19-data-catalog', 'recordid': 'b19deb44574adef703a84db78e4e29c905d3fff2', 'fields': {'data_provenance': 'Research', 'geographical_scope': 'US', 'update_frequency': '🤷🏻\\u200d♂️', 'name_of_the_data_source': 'HGHI - Regionalized hospital capacity estimates', 'granularity': 'State', 'format_of_the_data_source': 'CSV/TSV, XLS/XLSX', 'url_of_the_data_source': 'https://globalepidemics.org/our-data/hospital-capacity/'}, 'record_timestamp': '2020-04-08T14:36:09.677000+00:00'}, {'datasetid': 'covid-19-data-catalog', 'recordid': '45f6be2cd139f9b25393b7ad404519de1845e8a7', 'fields': {'data_provenance': 'Crowdsourcing', 'geographical_scope': 'France', 'update_frequency': 'Daily', 'name_of_the_data_source': 'France Chiffres clés Covid19', 'granularity': 'Department', 'format_of_the_data_source': 'CSV/TSV, JSON', 'url_of_the_data_source': 'https://www.data.gouv.fr/fr/datasets/chiffres-cles-concernant-lepidemie-de-covid19-en-france/'}, 'record_timestamp': '2020-04-01T08:26:19.347000+00:00'}, {'datasetid': 'covid-19-data-catalog', 'recordid': '93352b7a477670bf9a2e008abfc0c03e5320a569', 'fields': {'data_provenance': 'Administration', 'geographical_scope': 'Canada', 'update_frequency': 'No information', 'name_of_the_data_source': 'Ressources COVID-19 Canada Health', 'granularity': 'Region/province', 'format_of_the_data_source': 'CSV/TSV, XLS/XLSX', 'url_of_the_data_source': 'https://www.cihi.ca/en/covid-19-resources'}, 'record_timestamp': '2020-04-01T08:46:08.119000+00:00'}, {'datasetid': 'covid-19-data-catalog', 'recordid': '51f9fd6dff2e43b58cb4a71d88f15d4879c52e70', 'fields': {'data_provenance': 'Administration', 'geographical_scope': 'Australia', 'update_frequency': 'Daily', 'name_of_the_data_source': 'Australia Health Ministry', 'granularity': 'Country', 'format_of_the_data_source': 'tab', 'url_of_the_data_source': 'http://www9.health.gov.au/cda/source/cda-index.cfm'}, 'record_timestamp': '2020-04-14T13:33:22.771000+00:00'}, {'datasetid': 'covid-19-data-catalog', 'recordid': '574cf50a98d8106e17cde66f9bd8efa4e1b77bdb', 'fields': {'data_provenance': 'Crowdsourcing, Administration', 'geographical_scope': 'Japan', 'update_frequency': 'Hourly', 'name_of_the_data_source': 'COVID-19 Japan Anti-Coronavirus Dashboard', 'granularity': 'Prefecture', 'format_of_the_data_source': 'JSON, API', 'url_of_the_data_source': 'https://www.stopcovid19.jp/'}, 'record_timestamp': '2020-04-02T14:20:42.646000+00:00'}, {'datasetid': 'covid-19-data-catalog', 'recordid': 'a7ceb9ab7180687cad16ff75f83c69de3625fd7c', 'fields': {'data_provenance': 'Administration', 'geographical_scope': 'USA', 'update_frequency': 'Daily', 'name_of_the_data_source': 'USA CDC', 'granularity': 'State', 'format_of_the_data_source': 'HTML', 'url_of_the_data_source': 'https://www.cdc.gov/coronavirus/2019-ncov/cases-updates/cases-in-us.html'}, 'record_timestamp': '2020-04-01T08:36:37.434000+00:00'}, {'datasetid': 'covid-19-data-catalog', 'recordid': 'b0a7f43601d14494c2eac4d60ea46a4890344edf', 'fields': {'data_provenance': 'Robert Koch Institute (but the link is available on the homepage of the national open data portal)', 'geographical_scope': 'Germany', 'update_frequency': 'Daily', 'name_of_the_data_source': 'RKI Corona Landkreise', 'granularity': 'Landkreise https://en.wikipedia.org/wiki/List_of_districts_of_Germany', 'format_of_the_data_source': 'XLS/XLSX, API, Shapefile, ArcGis API', 'url_of_the_data_source': 'https://npgeo-corona-npgeo-de.hub.arcgis.com/datasets/917fc37a709542548cc3be077a786c17_0'}, 'record_timestamp': '2020-04-02T12:32:21.567000+00:00'}, {'datasetid': 'covid-19-data-catalog', 'recordid': '09b525c69d76cc5a7a05dbcd650571dd000cf821', 'fields': {'data_provenance': 'Crowdsourcing', 'geographical_scope': 'USA/Canada', 'update_frequency': 'Daily', 'name_of_the_data_source': '1point3acres', 'granularity': 'counties', 'format_of_the_data_source': 'CSV/TSV', 'url_of_the_data_source': 'https://coronavirus.1point3acres.com/en/data'}, 'record_timestamp': '2020-04-01T08:39:41.243000+00:00'}, {'datasetid': 'covid-19-data-catalog', 'recordid': '43b1e4e1e9fb9e460f25ab1daeed7de87c504368', 'fields': {'data_provenance': 'Administration', 'geographical_scope': 'Tokyo (Japan)', 'update_frequency': 'Daily', 'name_of_the_data_source': 'Latest updates on COVID-19 in Tokyo', 'granularity': 'City/town', 'format_of_the_data_source': 'CSV/TSV', 'url_of_the_data_source': 'https://stopcovid19.metro.tokyo.lg.jp/en'}, 'record_timestamp': '2020-04-02T13:40:49.414000+00:00'}, {'datasetid': 'covid-19-data-catalog', 'recordid': '70e45b37bf93f4c7ee9a3b1e736c450de9482158', 'fields': {'data_provenance': 'News/journalists', 'geographical_scope': 'USA', 'update_frequency': 'Unknown', 'name_of_the_data_source': 'Coronavirus (Covid-19) Data in the United States', 'granularity': 'State, County', 'format_of_the_data_source': 'CSV/TSV', 'url_of_the_data_source': 'https://github.com/nytimes/covid-19-data'}, 'record_timestamp': '2020-03-30T08:13:50.872000+00:00'}, {'datasetid': 'covid-19-data-catalog', 'recordid': '8a6bfb5680ee4b3dccf6fc749d1bb8292c7f681f', 'fields': {'data_provenance': 'Crowdsourcing', 'geographical_scope': 'India', 'update_frequency': 'Daily', 'name_of_the_data_source': 'Kaggle - Covid 19 in India', 'granularity': 'Country', 'format_of_the_data_source': 'CSV/TSV', 'url_of_the_data_source': 'https://www.kaggle.com/sudalairajkumar/covid19-in-india'}, 'record_timestamp': '2020-04-01T12:27:52.113000+00:00'}, {'datasetid': 'covid-19-data-catalog', 'recordid': '919137acd40393c14be107672760c9da6de602b5', 'fields': {'data_provenance': 'Crowdsourcing', 'geographical_scope': 'USA', 'update_frequency': 'Daily', 'name_of_the_data_source': 'Covid19 tracking USA', 'granularity': 'State', 'format_of_the_data_source': 'CSV/TSV, API', 'url_of_the_data_source': 'https://covidtracking.com/'}, 'record_timestamp': '2020-04-01T08:33:39.023000+00:00'}, {'datasetid': 'covid-19-data-catalog', 'recordid': '61c6bed83fb17beee3037c4424a900cf35a6ec9a', 'fields': {'data_provenance': 'Administration', 'geographical_scope': 'UK', 'name_of_the_data_source': 'ONS UK', 'granularity': 'State', 'format_of_the_data_source': 'CSV/TSV, XLS/XLSX', 'url_of_the_data_source': 'https://www.ons.gov.uk/peoplepopulationandcommunity/healthandsocialcare/conditionsanddiseases#datasets'}, 'record_timestamp': '2020-04-07T13:15:57.361000+00:00'}, {'datasetid': 'covid-19-data-catalog', 'recordid': '5e2bcd342b0c4b6eaf909f85bf7351f6a0337bce', 'fields': {'data_provenance': 'Administration', 'geographical_scope': 'India', 'update_frequency': 'Unknown', 'name_of_the_data_source': 'COVID-19 Statewise Status (India)', 'granularity': 'State', 'format_of_the_data_source': 'HTML', 'url_of_the_data_source': 'https://www.mohfw.gov.in/'}, 'record_timestamp': '2020-04-02T14:07:28.310000+00:00'}, {'datasetid': 'covid-19-data-catalog', 'recordid': '9caf7b182211bee96e39531e4ba849b2af68219f', 'fields': {'data_provenance': 'Administration', 'geographical_scope': 'France', 'update_frequency': 'Daily', 'name_of_the_data_source': 'Dépistage labo ville france', 'granularity': 'Department', 'format_of_the_data_source': 'CSV/TSV', 'url_of_the_data_source': 'https://www.data.gouv.fr/en/datasets/donnees-relatives-aux-tests-de-depistage-de-covid-19-realises-en-laboratoire-de-ville/'}, 'record_timestamp': '2020-04-07T11:27:38.972000+00:00'}, {'datasetid': 'covid-19-data-catalog', 'recordid': 'be8d9ae9876ec9679106fa13d27f72d4073f51cf', 'fields': {'data_provenance': 'Administration', 'geographical_scope': 'New-Zealand', 'update_frequency': 'Daily', 'name_of_the_data_source': 'COVID-19 - current cases', 'granularity': 'DHB (https://en.wikipedia.org/wiki/District_health_board)', 'format_of_the_data_source': 'XLS/XLSX, HTML', 'url_of_the_data_source': 'https://www.health.govt.nz/our-work/diseases-and-conditions/covid-19-novel-coronavirus/covid-19-current-situation/covid-19-current-cases'}, 'record_timestamp': '2020-04-02T13:22:24.015000+00:00'}, {'datasetid': 'covid-19-data-catalog', 'recordid': '6283b7157e9867790fb318f77455acf06c11c1c7', 'fields': {'data_provenance': 'Administration', 'geographical_scope': 'France/Italy/Germany/Danemark/Pays-Bas', 'name_of_the_data_source': 'Decease people', 'granularity': 'Country', 'format_of_the_data_source': 'XLS/XLSX', 'url_of_the_data_source': 'https://dc-covid.site.ined.fr/fr/donnees/'}, 'record_timestamp': '2020-04-16T07:44:50.730000+00:00'}, {'datasetid': 'covid-19-data-catalog', 'recordid': '73d0aee38c6e6557dce677c3a0b18f82b333ae4b', 'fields': {'data_provenance': 'Administration', 'geographical_scope': 'Spain', 'update_frequency': 'Daily', 'name_of_the_data_source': 'Evolución de enfermedad por el coronavirus (COVID-19)', 'granularity': 'Comunidad Autónoma', 'format_of_the_data_source': 'CSV/TSV', 'url_of_the_data_source': 'https://datos.gob.es/en/catalogo/e05070101-evolucion-de-enfermedad-por-el-coronavirus-covid-19'}, 'record_timestamp': '2020-04-02T13:18:55.359000+00:00'}, {'datasetid': 'covid-19-data-catalog', 'recordid': '71be5107588ae5b46dad5880d17495d0c5d43dbd', 'fields': {'data_provenance': 'Administration', 'geographical_scope': 'United Kingdom', 'update_frequency': 'Daily', 'name_of_the_data_source': 'UK Gov data', 'granularity': 'Region and tier local authority (UTLA)', 'format_of_the_data_source': 'CSV/TSV', 'url_of_the_data_source': 'https://www.gov.uk/government/publications/covid-19-track-coronavirus-cases'}, 'record_timestamp': '2020-03-30T08:13:52.413000+00:00'}, {'datasetid': 'covid-19-data-catalog', 'recordid': '30eddcb621b2813f5f3deb43e3323cfc89c58b01', 'fields': {'data_provenance': 'Crowdsourcing', 'geographical_scope': 'Belgium', 'update_frequency': 'Daily', 'name_of_the_data_source': 'Collecting data on belgium covid-19 cases', 'granularity': 'Country', 'format_of_the_data_source': 'CSV/TSV, JSON', 'url_of_the_data_source': 'https://github.com/eschnou/covid19-be'}, 'record_timestamp': '2020-03-30T08:55:42.751000+00:00'}, {'datasetid': 'covid-19-data-catalog', 'recordid': 'a34d29b3525caf3b9a52c0a88d08b6d245218994', 'fields': {'data_provenance': 'Administration', 'geographical_scope': 'USA', 'name_of_the_data_source': 'USA Provisional Death', 'granularity': 'Country', 'format_of_the_data_source': 'CSV/TSV, API', 'url_of_the_data_source': 'https://data.cdc.gov/NCHS/Provisional-Death-Counts-for-Coronavirus-Disease-C/hc4f-j6nb'}, 'record_timestamp': '2020-04-07T11:26:05.384000+00:00'}, {'datasetid': 'covid-19-data-catalog', 'recordid': 'c144d3da1b3d4bf6d717e6e1adf6eea58cef98a5', 'fields': {'data_provenance': 'Administration', 'geographical_scope': 'Ireland', 'update_frequency': 'Unknown', 'name_of_the_data_source': 'Covid Statisticts HPSC Ireland', 'granularity': 'County', 'format_of_the_data_source': 'CSV/TSV, API, HTML, KML, GeoJSON', 'url_of_the_data_source': 'https://data.gov.ie/dataset?theme=Health'}, 'record_timestamp': '2020-04-02T14:56:42.013000+00:00'}, {'datasetid': 'covid-19-data-catalog', 'recordid': 'cc985317d42f3f3a011f7c0e4b4f9591c7cc3d54', 'fields': {'data_provenance': 'Crowdsourcing', 'geographical_scope': 'Scotland', 'update_frequency': 'Daily', 'name_of_the_data_source': 'Scot_covid19', 'granularity': 'Region/province', 'format_of_the_data_source': 'CSV/TSV', 'url_of_the_data_source': 'https://github.com/watty62/Scot_covid19'}, 'record_timestamp': '2020-04-06T15:18:07.949000+00:00'}, {'datasetid': 'covid-19-data-catalog', 'recordid': '1d88ca0f7c7d58e25e8f067c743e414c297fac28', 'fields': {'data_provenance': 'Administration', 'geographical_scope': 'France', 'update_frequency': 'Daily', 'name_of_the_data_source': 'Données Urgences SOS Médecin COVID-19', 'granularity': 'Department', 'format_of_the_data_source': 'CSV/TSV', 'url_of_the_data_source': 'https://www.data.gouv.fr/fr/datasets/donnees-des-urgences-hospitalieres-et-de-sos-medecins-relatives-a-lepidemie-de-covid-19/'}, 'record_timestamp': '2020-04-01T08:27:42.766000+00:00'}, {'datasetid': 'covid-19-data-catalog', 'recordid': '57a578ab21ea3a551f9f3101f09ba4897ad35434', 'fields': {'data_provenance': 'Crowdsourcing', 'geographical_scope': 'Nouvelle-Calédonie', 'update_frequency': 'Daily', 'name_of_the_data_source': '#COVID19 Nouvelle-Calédonie', 'granularity': 'Region/province', 'format_of_the_data_source': 'CSV/TSV', 'url_of_the_data_source': 'https://www.data.gouv.fr/fr/datasets/covid19-nouvelle-caledonie/'}, 'record_timestamp': '2020-03-30T08:13:50.682000+00:00'}]\n",
            "[{'facets': [{'count': 22, 'path': 'Administration', 'state': 'displayed', 'name': 'Administration'}, {'count': 12, 'path': 'Crowdsourcing', 'state': 'displayed', 'name': 'Crowdsourcing'}, {'count': 3, 'path': 'Research', 'state': 'displayed', 'name': 'Research'}, {'count': 2, 'path': 'News/journalists', 'state': 'displayed', 'name': 'News/journalists'}, {'count': 1, 'path': 'Crowdsourcing, Administration', 'state': 'displayed', 'name': 'Crowdsourcing, Administration'}, {'count': 1, 'path': 'Robert Koch Institute (but the link is available on the homepage of the national open data portal)', 'state': 'displayed', 'name': 'Robert Koch Institute (but the link is available on the homepage of the national open data portal)'}], 'name': 'data_provenance'}, {'facets': [{'count': 30, 'path': 'CSV/TSV', 'state': 'displayed', 'name': 'CSV/TSV'}, {'count': 12, 'path': 'XLS/XLSX', 'state': 'displayed', 'name': 'XLS/XLSX'}, {'count': 8, 'path': 'JSON', 'state': 'displayed', 'name': 'JSON'}, {'count': 5, 'path': 'API', 'state': 'displayed', 'name': 'API'}, {'count': 5, 'path': 'HTML', 'state': 'displayed', 'name': 'HTML'}, {'count': 2, 'path': 'XML', 'state': 'displayed', 'name': 'XML'}, {'count': 1, 'path': 'ArcGis API', 'state': 'displayed', 'name': 'ArcGis API'}, {'count': 1, 'path': 'GeoJSON', 'state': 'displayed', 'name': 'GeoJSON'}, {'count': 1, 'path': 'KML', 'state': 'displayed', 'name': 'KML'}, {'count': 1, 'path': 'Shapefile', 'state': 'displayed', 'name': 'Shapefile'}, {'count': 1, 'path': 'tab', 'state': 'displayed', 'name': 'tab'}], 'name': 'format_of_the_data_source'}, {'facets': [{'count': 30, 'path': 'Daily', 'state': 'displayed', 'name': 'Daily'}, {'count': 3, 'path': 'Unknown', 'state': 'displayed', 'name': 'Unknown'}, {'count': 2, 'path': 'Weekly', 'state': 'displayed', 'name': 'Weekly'}, {'count': 1, 'path': 'Hourly', 'state': 'displayed', 'name': 'Hourly'}, {'count': 1, 'path': 'No information', 'state': 'displayed', 'name': 'No information'}, {'count': 1, 'path': '🤷🏻\\u200d♂️', 'state': 'displayed', 'name': '🤷🏻\\u200d♂️'}], 'name': 'update_frequency'}, {'facets': [{'count': 6, 'path': 'USA', 'state': 'displayed', 'name': 'USA'}, {'count': 5, 'path': 'World', 'state': 'displayed', 'name': 'World'}, {'count': 4, 'path': 'France', 'state': 'displayed', 'name': 'France'}, {'count': 3, 'path': 'Australia', 'state': 'displayed', 'name': 'Australia'}, {'count': 3, 'path': 'Canada', 'state': 'displayed', 'name': 'Canada'}, {'count': 2, 'path': 'India', 'state': 'displayed', 'name': 'India'}, {'count': 1, 'path': 'Belgium', 'state': 'displayed', 'name': 'Belgium'}, {'count': 1, 'path': 'Canda', 'state': 'displayed', 'name': 'Canda'}, {'count': 1, 'path': 'France/Italy/Germany/Danemark/Pays-Bas', 'state': 'displayed', 'name': 'France/Italy/Germany/Danemark/Pays-Bas'}, {'count': 1, 'path': 'Germany', 'state': 'displayed', 'name': 'Germany'}, {'count': 1, 'path': 'Ireland', 'state': 'displayed', 'name': 'Ireland'}, {'count': 1, 'path': 'Italy', 'state': 'displayed', 'name': 'Italy'}, {'count': 1, 'path': 'Japan', 'state': 'displayed', 'name': 'Japan'}, {'count': 1, 'path': 'New-Zealand', 'state': 'displayed', 'name': 'New-Zealand'}, {'count': 1, 'path': 'Nouvelle-Calédonie', 'state': 'displayed', 'name': 'Nouvelle-Calédonie'}, {'count': 1, 'path': 'Scotland', 'state': 'displayed', 'name': 'Scotland'}, {'count': 1, 'path': 'Spain', 'state': 'displayed', 'name': 'Spain'}, {'count': 1, 'path': 'Switzerland', 'state': 'displayed', 'name': 'Switzerland'}, {'count': 1, 'path': 'Switzerland, Liechtenstein', 'state': 'displayed', 'name': 'Switzerland, Liechtenstein'}, {'count': 1, 'path': 'Tokyo (Japan)', 'state': 'displayed', 'name': 'Tokyo (Japan)'}, {'count': 1, 'path': 'UK', 'state': 'displayed', 'name': 'UK'}, {'count': 1, 'path': 'US', 'state': 'displayed', 'name': 'US'}, {'count': 1, 'path': 'USA/Canada', 'state': 'displayed', 'name': 'USA/Canada'}, {'count': 1, 'path': 'United Kingdom', 'state': 'displayed', 'name': 'United Kingdom'}], 'name': 'geographical_scope'}, {'facets': [{'count': 9, 'path': 'Country', 'state': 'displayed', 'name': 'Country'}, {'count': 9, 'path': 'State', 'state': 'displayed', 'name': 'State'}, {'count': 7, 'path': 'Region/province', 'state': 'displayed', 'name': 'Region/province'}, {'count': 4, 'path': 'Department', 'state': 'displayed', 'name': 'Department'}, {'count': 2, 'path': 'Canton', 'state': 'displayed', 'name': 'Canton'}, {'count': 2, 'path': 'County', 'state': 'displayed', 'name': 'County'}, {'count': 1, 'path': 'City/town', 'state': 'displayed', 'name': 'City/town'}, {'count': 1, 'path': 'Comunidad Autónoma', 'state': 'displayed', 'name': 'Comunidad Autónoma'}, {'count': 1, 'path': 'DHB (https://en.wikipedia.org/wiki/District_health_board)', 'state': 'displayed', 'name': 'DHB (https://en.wikipedia.org/wiki/District_health_board)'}, {'count': 1, 'path': 'IDK', 'state': 'displayed', 'name': 'IDK'}, {'count': 1, 'path': 'Landkreise https://en.wikipedia.org/wiki/List_of_districts_of_Germany', 'state': 'displayed', 'name': 'Landkreise https://en.wikipedia.org/wiki/List_of_districts_of_Germany'}, {'count': 1, 'path': 'Prefecture', 'state': 'displayed', 'name': 'Prefecture'}, {'count': 1, 'path': 'Region and tier local authority (UTLA)', 'state': 'displayed', 'name': 'Region and tier local authority (UTLA)'}, {'count': 1, 'path': 'Research papers', 'state': 'displayed', 'name': 'Research papers'}, {'count': 1, 'path': 'counties', 'state': 'displayed', 'name': 'counties'}], 'name': 'granularity'}]\n"
          ],
          "name": "stdout"
        }
      ]
    },
    {
      "cell_type": "code",
      "metadata": {
        "id": "jQMEh7vYWk_D",
        "colab_type": "code",
        "colab": {
          "base_uri": "https://localhost:8080/",
          "height": 67
        },
        "outputId": "36e42052-d87c-4627-c2bf-cd1c95e7372e"
      },
      "source": [
        "print(\"parameters: \\t{0} \\t{1}\".format(type(parameters),len(parameters)))\n",
        "print(\"records: \\t{0} \\t{1}\".format(type(records),len(records)))\n",
        "print(\"facet_groups: \\t{0} \\t{1}\".format(type(facet_groups),len(facet_groups)))"
      ],
      "execution_count": 130,
      "outputs": [
        {
          "output_type": "stream",
          "text": [
            "parameters: \t<class 'dict'> \t5\n",
            "records: \t<class 'list'> \t41\n",
            "facet_groups: \t<class 'list'> \t5\n"
          ],
          "name": "stdout"
        }
      ]
    },
    {
      "cell_type": "markdown",
      "metadata": {
        "id": "r6_aaJxJV69O",
        "colab_type": "text"
      },
      "source": [
        "###Note 2 - After trying to gauge the type of json response being received from the API. Segregation of Data can be done according to the specific requirements\n",
        "\n",
        "From the previous outputs records and facet_groups are a list of dictionaries"
      ]
    },
    {
      "cell_type": "code",
      "metadata": {
        "id": "tRsTDRcNe9nx",
        "colab_type": "code",
        "colab": {
          "base_uri": "https://localhost:8080/",
          "height": 101
        },
        "outputId": "6275f37a-c1e5-4c9f-8621-bfe78d496abb"
      },
      "source": [
        "for key in parameters:\n",
        "  print(key,\" \",parameters[key])"
      ],
      "execution_count": 131,
      "outputs": [
        {
          "output_type": "stream",
          "text": [
            "dataset   covid-19-data-catalog\n",
            "timezone   UTC\n",
            "rows   200\n",
            "format   json\n",
            "facet   ['geographical_scope', 'update_frequency', 'data_provenance', 'granularity', 'format_of_the_data_source']\n"
          ],
          "name": "stdout"
        }
      ]
    },
    {
      "cell_type": "code",
      "metadata": {
        "id": "V8NJ9fiwfXCa",
        "colab_type": "code",
        "colab": {
          "base_uri": "https://localhost:8080/",
          "height": 50
        },
        "outputId": "44ad67ff-51df-4002-e9be-3c0bc4d9be62"
      },
      "source": [
        "facet = parameters['facet']\n",
        "print(\"Facet {0} {1}\".format(type(facet),len(facet)))\n",
        "print(facet)"
      ],
      "execution_count": 132,
      "outputs": [
        {
          "output_type": "stream",
          "text": [
            "Facet <class 'list'> 5\n",
            "['geographical_scope', 'update_frequency', 'data_provenance', 'granularity', 'format_of_the_data_source']\n"
          ],
          "name": "stdout"
        }
      ]
    },
    {
      "cell_type": "code",
      "metadata": {
        "id": "lR7Kh7f8hrWb",
        "colab_type": "code",
        "colab": {
          "base_uri": "https://localhost:8080/",
          "height": 54
        },
        "outputId": "9e454b16-9308-442a-8771-87088ccee08b"
      },
      "source": [
        "\n",
        "\n",
        "fieldsdict = []\n",
        "for l in records:\n",
        "  fieldsdict.append(l['fields'])\n",
        "  \n",
        "print(fieldsdict)\n"
      ],
      "execution_count": 133,
      "outputs": [
        {
          "output_type": "stream",
          "text": [
            "[{'data_provenance': 'Crowdsourcing', 'geographical_scope': 'Canda', 'update_frequency': 'Daily', 'name_of_the_data_source': 'Covid19 Canada', 'granularity': 'Region/province', 'format_of_the_data_source': 'CSV/TSV, XLS/XLSX', 'url_of_the_data_source': 'https://github.com/ishaberry/Covid19Canada'}, {'data_provenance': 'Administration', 'geographical_scope': 'Australia', 'update_frequency': 'Daily', 'name_of_the_data_source': 'Australia Government', 'granularity': 'State', 'format_of_the_data_source': 'CSV/TSV', 'url_of_the_data_source': 'https://data.gov.au/search?q=covid-19'}, {'data_provenance': 'Administration', 'geographical_scope': 'Switzerland, Liechtenstein', 'update_frequency': 'Daily', 'name_of_the_data_source': 'SARS-CoV-2 Cases communicated by Swiss Cantons and Principality of Liechtenstein (FL)', 'granularity': 'Canton', 'format_of_the_data_source': 'CSV/TSV', 'url_of_the_data_source': 'https://github.com/openZH/covid_19'}, {'data_provenance': 'Crowdsourcing', 'geographical_scope': 'World', 'update_frequency': 'Daily', 'name_of_the_data_source': '2019 Novel Coronavirus COVID-19 (2019-nCoV) Data Repository by Johns Hopkins CSSE', 'granularity': 'Country', 'format_of_the_data_source': 'CSV/TSV', 'url_of_the_data_source': 'https://github.com/CSSEGISandData/COVID-19'}, {'data_provenance': 'Administration', 'geographical_scope': 'France', 'update_frequency': 'Daily', 'name_of_the_data_source': 'Données hospitalières france COVID19', 'granularity': 'Department', 'format_of_the_data_source': 'CSV/TSV', 'url_of_the_data_source': 'https://www.data.gouv.fr/fr/datasets/donnees-hospitalieres-relatives-a-lepidemie-de-covid-19/'}, {'data_provenance': 'Administration', 'geographical_scope': 'Canada', 'update_frequency': 'Daily', 'name_of_the_data_source': 'Canada Governement', 'granularity': 'Region/province', 'format_of_the_data_source': 'CSV/TSV', 'url_of_the_data_source': 'https://www.canada.ca/en/public-health/services/diseases/2019-novel-coronavirus-infection.html'}, {'data_provenance': 'Research', 'geographical_scope': 'World', 'update_frequency': 'Daily', 'name_of_the_data_source': 'OXFORD COVID-19 GOVERNMENT RESPONSE TRACKER', 'granularity': 'Country', 'format_of_the_data_source': 'XLS/XLSX', 'url_of_the_data_source': 'https://www.bsg.ox.ac.uk/research/research-projects/oxford-covid-19-government-response-tracker'}, {'data_provenance': 'Research', 'geographical_scope': 'World', 'update_frequency': 'Weekly', 'name_of_the_data_source': 'COVID-19 Open Research Dataset (CORD-19)', 'granularity': 'Research papers', 'format_of_the_data_source': 'JSON', 'url_of_the_data_source': 'https://pages.semanticscholar.org/coronavirus-research'}, {'data_provenance': 'Administration', 'geographical_scope': 'USA', 'update_frequency': 'Weekly', 'name_of_the_data_source': 'COVID-19 USA CDC', 'granularity': 'State', 'format_of_the_data_source': 'CSV/TSV', 'url_of_the_data_source': 'https://gis.cdc.gov/grasp/COVIDNet/COVID19_3.html'}, {'data_provenance': 'Crowdsourcing', 'geographical_scope': 'Canada', 'update_frequency': 'Daily', 'name_of_the_data_source': 'Canada', 'granularity': 'Region/province', 'format_of_the_data_source': 'HTML', 'url_of_the_data_source': 'https://virihealth.com'}, {'data_provenance': 'Administration', 'geographical_scope': 'World', 'update_frequency': 'Daily', 'name_of_the_data_source': 'Geographic distribution of COVID-19 cases worldwide', 'granularity': 'Country', 'format_of_the_data_source': 'CSV/TSV, XLS/XLSX, JSON, XML', 'url_of_the_data_source': 'https://www.ecdc.europa.eu/en/publications-data/download-todays-data-geographic-distribution-covid-19-cases-worldwide'}, {'data_provenance': 'News/journalists', 'geographical_scope': 'Australia', 'update_frequency': 'Daily', 'name_of_the_data_source': 'Guardian Australia', 'granularity': 'State', 'format_of_the_data_source': 'XLS/XLSX, JSON', 'url_of_the_data_source': 'https://docs.google.com/spreadsheets/d/1q5gdePANXci8enuiS4oHUJxcxC13d6bjMRSicakychE/edit#gid=1437767505'}, {'data_provenance': 'Administration', 'geographical_scope': 'World', 'update_frequency': 'Daily', 'name_of_the_data_source': 'ECDC Geographic Distribution Covid-19 cases Worldwide', 'granularity': 'Country', 'format_of_the_data_source': 'CSV/TSV, XLS/XLSX, XML, JSON', 'url_of_the_data_source': 'https://www.ecdc.europa.eu/en/publications-data/download-todays-data-geographic-distribution-covid-19-cases-worldwide'}, {'data_provenance': 'Crowdsourcing', 'geographical_scope': 'USA', 'update_frequency': 'Daily', 'name_of_the_data_source': 'Github - Covid trakcing API', 'granularity': 'IDK', 'format_of_the_data_source': 'CSV/TSV', 'url_of_the_data_source': 'https://github.com/COVID19Tracking/covid-tracking-api/blob/master/README.md'}, {'data_provenance': 'Crowdsourcing', 'geographical_scope': 'Switzerland', 'update_frequency': 'Daily', 'name_of_the_data_source': 'COVID-19 cases Switzerland', 'granularity': 'Canton', 'format_of_the_data_source': 'CSV/TSV, XLS/XLSX', 'url_of_the_data_source': 'https://github.com/daenuprobst/covid19-cases-switzerland'}, {'data_provenance': 'Administration', 'geographical_scope': 'Italy', 'update_frequency': 'Daily', 'name_of_the_data_source': 'COVID-19 Italia - Monitoraggio situazione', 'granularity': 'Region/province', 'format_of_the_data_source': 'CSV/TSV, JSON', 'url_of_the_data_source': 'https://github.com/pcm-dpc/COVID-19'}, {'data_provenance': 'Research', 'geographical_scope': 'US', 'update_frequency': '🤷🏻\\u200d♂️', 'name_of_the_data_source': 'HGHI - Regionalized hospital capacity estimates', 'granularity': 'State', 'format_of_the_data_source': 'CSV/TSV, XLS/XLSX', 'url_of_the_data_source': 'https://globalepidemics.org/our-data/hospital-capacity/'}, {'data_provenance': 'Crowdsourcing', 'geographical_scope': 'France', 'update_frequency': 'Daily', 'name_of_the_data_source': 'France Chiffres clés Covid19', 'granularity': 'Department', 'format_of_the_data_source': 'CSV/TSV, JSON', 'url_of_the_data_source': 'https://www.data.gouv.fr/fr/datasets/chiffres-cles-concernant-lepidemie-de-covid19-en-france/'}, {'data_provenance': 'Administration', 'geographical_scope': 'Canada', 'update_frequency': 'No information', 'name_of_the_data_source': 'Ressources COVID-19 Canada Health', 'granularity': 'Region/province', 'format_of_the_data_source': 'CSV/TSV, XLS/XLSX', 'url_of_the_data_source': 'https://www.cihi.ca/en/covid-19-resources'}, {'data_provenance': 'Administration', 'geographical_scope': 'Australia', 'update_frequency': 'Daily', 'name_of_the_data_source': 'Australia Health Ministry', 'granularity': 'Country', 'format_of_the_data_source': 'tab', 'url_of_the_data_source': 'http://www9.health.gov.au/cda/source/cda-index.cfm'}, {'data_provenance': 'Crowdsourcing, Administration', 'geographical_scope': 'Japan', 'update_frequency': 'Hourly', 'name_of_the_data_source': 'COVID-19 Japan Anti-Coronavirus Dashboard', 'granularity': 'Prefecture', 'format_of_the_data_source': 'JSON, API', 'url_of_the_data_source': 'https://www.stopcovid19.jp/'}, {'data_provenance': 'Administration', 'geographical_scope': 'USA', 'update_frequency': 'Daily', 'name_of_the_data_source': 'USA CDC', 'granularity': 'State', 'format_of_the_data_source': 'HTML', 'url_of_the_data_source': 'https://www.cdc.gov/coronavirus/2019-ncov/cases-updates/cases-in-us.html'}, {'data_provenance': 'Robert Koch Institute (but the link is available on the homepage of the national open data portal)', 'geographical_scope': 'Germany', 'update_frequency': 'Daily', 'name_of_the_data_source': 'RKI Corona Landkreise', 'granularity': 'Landkreise https://en.wikipedia.org/wiki/List_of_districts_of_Germany', 'format_of_the_data_source': 'XLS/XLSX, API, Shapefile, ArcGis API', 'url_of_the_data_source': 'https://npgeo-corona-npgeo-de.hub.arcgis.com/datasets/917fc37a709542548cc3be077a786c17_0'}, {'data_provenance': 'Crowdsourcing', 'geographical_scope': 'USA/Canada', 'update_frequency': 'Daily', 'name_of_the_data_source': '1point3acres', 'granularity': 'counties', 'format_of_the_data_source': 'CSV/TSV', 'url_of_the_data_source': 'https://coronavirus.1point3acres.com/en/data'}, {'data_provenance': 'Administration', 'geographical_scope': 'Tokyo (Japan)', 'update_frequency': 'Daily', 'name_of_the_data_source': 'Latest updates on COVID-19 in Tokyo', 'granularity': 'City/town', 'format_of_the_data_source': 'CSV/TSV', 'url_of_the_data_source': 'https://stopcovid19.metro.tokyo.lg.jp/en'}, {'data_provenance': 'News/journalists', 'geographical_scope': 'USA', 'update_frequency': 'Unknown', 'name_of_the_data_source': 'Coronavirus (Covid-19) Data in the United States', 'granularity': 'State, County', 'format_of_the_data_source': 'CSV/TSV', 'url_of_the_data_source': 'https://github.com/nytimes/covid-19-data'}, {'data_provenance': 'Crowdsourcing', 'geographical_scope': 'India', 'update_frequency': 'Daily', 'name_of_the_data_source': 'Kaggle - Covid 19 in India', 'granularity': 'Country', 'format_of_the_data_source': 'CSV/TSV', 'url_of_the_data_source': 'https://www.kaggle.com/sudalairajkumar/covid19-in-india'}, {'data_provenance': 'Crowdsourcing', 'geographical_scope': 'USA', 'update_frequency': 'Daily', 'name_of_the_data_source': 'Covid19 tracking USA', 'granularity': 'State', 'format_of_the_data_source': 'CSV/TSV, API', 'url_of_the_data_source': 'https://covidtracking.com/'}, {'data_provenance': 'Administration', 'geographical_scope': 'UK', 'name_of_the_data_source': 'ONS UK', 'granularity': 'State', 'format_of_the_data_source': 'CSV/TSV, XLS/XLSX', 'url_of_the_data_source': 'https://www.ons.gov.uk/peoplepopulationandcommunity/healthandsocialcare/conditionsanddiseases#datasets'}, {'data_provenance': 'Administration', 'geographical_scope': 'India', 'update_frequency': 'Unknown', 'name_of_the_data_source': 'COVID-19 Statewise Status (India)', 'granularity': 'State', 'format_of_the_data_source': 'HTML', 'url_of_the_data_source': 'https://www.mohfw.gov.in/'}, {'data_provenance': 'Administration', 'geographical_scope': 'France', 'update_frequency': 'Daily', 'name_of_the_data_source': 'Dépistage labo ville france', 'granularity': 'Department', 'format_of_the_data_source': 'CSV/TSV', 'url_of_the_data_source': 'https://www.data.gouv.fr/en/datasets/donnees-relatives-aux-tests-de-depistage-de-covid-19-realises-en-laboratoire-de-ville/'}, {'data_provenance': 'Administration', 'geographical_scope': 'New-Zealand', 'update_frequency': 'Daily', 'name_of_the_data_source': 'COVID-19 - current cases', 'granularity': 'DHB (https://en.wikipedia.org/wiki/District_health_board)', 'format_of_the_data_source': 'XLS/XLSX, HTML', 'url_of_the_data_source': 'https://www.health.govt.nz/our-work/diseases-and-conditions/covid-19-novel-coronavirus/covid-19-current-situation/covid-19-current-cases'}, {'data_provenance': 'Administration', 'geographical_scope': 'France/Italy/Germany/Danemark/Pays-Bas', 'name_of_the_data_source': 'Decease people', 'granularity': 'Country', 'format_of_the_data_source': 'XLS/XLSX', 'url_of_the_data_source': 'https://dc-covid.site.ined.fr/fr/donnees/'}, {'data_provenance': 'Administration', 'geographical_scope': 'Spain', 'update_frequency': 'Daily', 'name_of_the_data_source': 'Evolución de enfermedad por el coronavirus (COVID-19)', 'granularity': 'Comunidad Autónoma', 'format_of_the_data_source': 'CSV/TSV', 'url_of_the_data_source': 'https://datos.gob.es/en/catalogo/e05070101-evolucion-de-enfermedad-por-el-coronavirus-covid-19'}, {'data_provenance': 'Administration', 'geographical_scope': 'United Kingdom', 'update_frequency': 'Daily', 'name_of_the_data_source': 'UK Gov data', 'granularity': 'Region and tier local authority (UTLA)', 'format_of_the_data_source': 'CSV/TSV', 'url_of_the_data_source': 'https://www.gov.uk/government/publications/covid-19-track-coronavirus-cases'}, {'data_provenance': 'Crowdsourcing', 'geographical_scope': 'Belgium', 'update_frequency': 'Daily', 'name_of_the_data_source': 'Collecting data on belgium covid-19 cases', 'granularity': 'Country', 'format_of_the_data_source': 'CSV/TSV, JSON', 'url_of_the_data_source': 'https://github.com/eschnou/covid19-be'}, {'data_provenance': 'Administration', 'geographical_scope': 'USA', 'name_of_the_data_source': 'USA Provisional Death', 'granularity': 'Country', 'format_of_the_data_source': 'CSV/TSV, API', 'url_of_the_data_source': 'https://data.cdc.gov/NCHS/Provisional-Death-Counts-for-Coronavirus-Disease-C/hc4f-j6nb'}, {'data_provenance': 'Administration', 'geographical_scope': 'Ireland', 'update_frequency': 'Unknown', 'name_of_the_data_source': 'Covid Statisticts HPSC Ireland', 'granularity': 'County', 'format_of_the_data_source': 'CSV/TSV, API, HTML, KML, GeoJSON', 'url_of_the_data_source': 'https://data.gov.ie/dataset?theme=Health'}, {'data_provenance': 'Crowdsourcing', 'geographical_scope': 'Scotland', 'update_frequency': 'Daily', 'name_of_the_data_source': 'Scot_covid19', 'granularity': 'Region/province', 'format_of_the_data_source': 'CSV/TSV', 'url_of_the_data_source': 'https://github.com/watty62/Scot_covid19'}, {'data_provenance': 'Administration', 'geographical_scope': 'France', 'update_frequency': 'Daily', 'name_of_the_data_source': 'Données Urgences SOS Médecin COVID-19', 'granularity': 'Department', 'format_of_the_data_source': 'CSV/TSV', 'url_of_the_data_source': 'https://www.data.gouv.fr/fr/datasets/donnees-des-urgences-hospitalieres-et-de-sos-medecins-relatives-a-lepidemie-de-covid-19/'}, {'data_provenance': 'Crowdsourcing', 'geographical_scope': 'Nouvelle-Calédonie', 'update_frequency': 'Daily', 'name_of_the_data_source': '#COVID19 Nouvelle-Calédonie', 'granularity': 'Region/province', 'format_of_the_data_source': 'CSV/TSV', 'url_of_the_data_source': 'https://www.data.gouv.fr/fr/datasets/covid19-nouvelle-caledonie/'}]\n"
          ],
          "name": "stdout"
        }
      ]
    },
    {
      "cell_type": "code",
      "metadata": {
        "id": "qLVEy8Capk8F",
        "colab_type": "code",
        "colab": {
          "base_uri": "https://localhost:8080/",
          "height": 70
        },
        "outputId": "56fe851a-3042-4ef9-cdc5-0485c56b45cf"
      },
      "source": [
        "countryset = set([val['geographical_scope'] for val in fieldsdict])\n",
        "formatset = set([val['format_of_the_data_source'] for val in fieldsdict ])\n",
        "\n",
        "print(countryset)\n",
        "print(formatset)\n",
        "\n",
        "  \n"
      ],
      "execution_count": 134,
      "outputs": [
        {
          "output_type": "stream",
          "text": [
            "{'Australia', 'France', 'Spain', 'Switzerland, Liechtenstein', 'Italy', 'New-Zealand', 'World', 'Canada', 'USA/Canada', 'Japan', 'US', 'Germany', 'USA', 'India', 'France/Italy/Germany/Danemark/Pays-Bas', 'Scotland', 'Ireland', 'United Kingdom', 'Tokyo (Japan)', 'Belgium', 'Switzerland', 'Nouvelle-Calédonie', 'UK', 'Canda'}\n",
            "{'CSV/TSV, API', 'CSV/TSV, XLS/XLSX', 'tab', 'CSV/TSV, JSON', 'XLS/XLSX, HTML', 'XLS/XLSX, JSON', 'XLS/XLSX', 'CSV/TSV, API, HTML, KML, GeoJSON', 'JSON', 'HTML', 'JSON, API', 'XLS/XLSX, API, Shapefile, ArcGis API', 'CSV/TSV, XLS/XLSX, JSON, XML', 'CSV/TSV', 'CSV/TSV, XLS/XLSX, XML, JSON'}\n"
          ],
          "name": "stdout"
        }
      ]
    },
    {
      "cell_type": "code",
      "metadata": {
        "id": "oGwiBfpwxah9",
        "colab_type": "code",
        "colab": {
          "base_uri": "https://localhost:8080/",
          "height": 70
        },
        "outputId": "1f4e84dc-3396-40b2-e4b0-4b2ce75592ca"
      },
      "source": [
        "country = input()\n",
        "\n",
        "for l in fieldsdict:\n",
        "  if l['geographical_scope'].lower() == country.lower():\n",
        "     \n",
        "    for key in l:\n",
        "      print(\"{0}:{1}\".format(key,l[key]),end=\"\\t\")\n",
        "    print()\n",
        "\n"
      ],
      "execution_count": 140,
      "outputs": [
        {
          "output_type": "stream",
          "text": [
            "Canda\n",
            "data_provenance:Crowdsourcing\tgeographical_scope:Canda\tupdate_frequency:Daily\tname_of_the_data_source:Covid19 Canada\tgranularity:Region/province\tformat_of_the_data_source:CSV/TSV, XLS/XLSX\turl_of_the_data_source:https://github.com/ishaberry/Covid19Canada\t\n"
          ],
          "name": "stdout"
        }
      ]
    },
    {
      "cell_type": "code",
      "metadata": {
        "id": "xhhFKepkERYp",
        "colab_type": "code",
        "colab": {}
      },
      "source": [
        "U"
      ],
      "execution_count": null,
      "outputs": []
    }
  ]
}